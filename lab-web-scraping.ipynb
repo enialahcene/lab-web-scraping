{
 "cells": [
  {
   "cell_type": "markdown",
   "id": "7e7a1ab8-2599-417d-9a65-25ef07f3a786",
   "metadata": {
    "id": "7e7a1ab8-2599-417d-9a65-25ef07f3a786"
   },
   "source": [
    "# Lab | Web Scraping"
   ]
  },
  {
   "cell_type": "markdown",
   "id": "ce8882fc-4815-4567-92fa-b4816358ba7d",
   "metadata": {
    "id": "ce8882fc-4815-4567-92fa-b4816358ba7d"
   },
   "source": [
    "Welcome to the \"Books to Scrape\" Web Scraping Adventure Lab!\n",
    "\n",
    "**Objective**\n",
    "\n",
    "In this lab, we will embark on a mission to unearth valuable insights from the data available on Books to Scrape, an online platform showcasing a wide variety of books. As data analyst, you have been tasked with scraping a specific subset of book data from Books to Scrape to assist publishing companies in understanding the landscape of highly-rated books across different genres. Your insights will help shape future book marketing strategies and publishing decisions.\n",
    "\n",
    "**Background**\n",
    "\n",
    "In a world where data has become the new currency, businesses are leveraging big data to make informed decisions that drive success and profitability. The publishing industry, much like others, utilizes data analytics to understand market trends, reader preferences, and the performance of books based on factors such as genre, author, and ratings. Books to Scrape serves as a rich source of such data, offering detailed information about a diverse range of books, making it an ideal platform for extracting insights to aid in informed decision-making within the literary world.\n",
    "\n",
    "**Task**\n",
    "\n",
    "Your task is to create a Python script using BeautifulSoup and pandas to scrape Books to Scrape book data, focusing on book ratings and genres. The script should be able to filter books with ratings above a certain threshold and in specific genres. Additionally, the script should structure the scraped data in a tabular format using pandas for further analysis.\n",
    "\n",
    "**Expected Outcome**\n",
    "\n",
    "A function named `scrape_books` that takes two parameters: `min_rating` and `max_price`. The function should scrape book data from the \"Books to Scrape\" website and return a `pandas` DataFrame with the following columns:\n",
    "\n",
    "**Expected Outcome**\n",
    "\n",
    "- A function named `scrape_books` that takes two parameters: `min_rating` and `max_price`.\n",
    "- The function should return a DataFrame with the following columns:\n",
    "  - **UPC**: The Universal Product Code (UPC) of the book.\n",
    "  - **Title**: The title of the book.\n",
    "  - **Price (£)**: The price of the book in pounds.\n",
    "  - **Rating**: The rating of the book (1-5 stars).\n",
    "  - **Genre**: The genre of the book.\n",
    "  - **Availability**: Whether the book is in stock or not.\n",
    "  - **Description**: A brief description or product description of the book (if available).\n",
    "  \n",
    "You will execute this script to scrape data for books with a minimum rating of `4.0 and above` and a maximum price of `£20`. \n",
    "\n",
    "Remember to experiment with different ratings and prices to ensure your code is versatile and can handle various searches effectively!\n",
    "\n",
    "**Resources**\n",
    "\n",
    "- [Beautiful Soup Documentation](https://www.crummy.com/software/BeautifulSoup/bs4/doc/)\n",
    "- [Pandas Documentation](https://pandas.pydata.org/pandas-docs/stable/index.html)\n",
    "- [Books to Scrape](https://books.toscrape.com/)\n"
   ]
  },
  {
   "cell_type": "markdown",
   "id": "3519921d-5890-445b-9a33-934ed8ee378c",
   "metadata": {
    "id": "3519921d-5890-445b-9a33-934ed8ee378c"
   },
   "source": [
    "**Hint**\n",
    "\n",
    "Your first mission is to familiarize yourself with the **Books to Scrape** website. Navigate to [Books to Scrape](http://books.toscrape.com/) and explore the available books to understand their layout and structure. \n",
    "\n",
    "Next, think about how you can set parameters for your data extraction:\n",
    "\n",
    "- **Minimum Rating**: Focus on books with a rating of 4.0 and above.\n",
    "- **Maximum Price**: Filter for books priced up to £20.\n",
    "\n",
    "After reviewing the site, you can construct a plan for scraping relevant data. Pay attention to the details displayed for each book, including the title, price, rating, and availability. This will help you identify the correct HTML elements to target with your scraping script.\n",
    "\n",
    "Make sure to build your scraping URL and logic based on the patterns you observe in the HTML structure of the book listings!"
   ]
  },
  {
   "cell_type": "markdown",
   "id": "25a83a0d-a742-49f6-985e-e27887cbf922",
   "metadata": {
    "id": "25a83a0d-a742-49f6-985e-e27887cbf922"
   },
   "source": [
    "\n",
    "---\n",
    "\n",
    "**Best of luck! Immerse yourself in the world of books, and may the data be with you!**"
   ]
  },
  {
   "cell_type": "markdown",
   "id": "7b75cf0d-9afa-4eec-a9e2-befeac68b2a0",
   "metadata": {
    "id": "7b75cf0d-9afa-4eec-a9e2-befeac68b2a0"
   },
   "source": [
    "**Important Note**:\n",
    "\n",
    "In the fast-changing online world, websites often update and change their structures. When you try this lab, the **Books to Scrape** website might differ from what you expect.\n",
    "\n",
    "If you encounter issues due to these changes, like new rules or obstacles preventing data extraction, don’t worry! Get creative.\n",
    "\n",
    "You can choose another website that interests you and is suitable for scraping data. Options like Wikipedia, The New York Times, or even library databases are great alternatives. The main goal remains the same: extract useful data and enhance your web scraping skills while exploring a source of information you enjoy. This is your opportunity to practice and adapt to different web environments!"
   ]
  },
  {
   "cell_type": "code",
   "execution_count": 1,
   "id": "40359eee-9cd7-4884-bfa4-83344c222305",
   "metadata": {
    "id": "40359eee-9cd7-4884-bfa4-83344c222305"
   },
   "outputs": [
    {
     "name": "stdout",
     "output_type": "stream",
     "text": [
      "Requirement already satisfied: requests in c:\\users\\enial\\anaconda3\\lib\\site-packages (2.32.2)\n",
      "Requirement already satisfied: charset-normalizer<4,>=2 in c:\\users\\enial\\anaconda3\\lib\\site-packages (from requests) (2.0.4)\n",
      "Requirement already satisfied: idna<4,>=2.5 in c:\\users\\enial\\anaconda3\\lib\\site-packages (from requests) (3.7)\n",
      "Requirement already satisfied: urllib3<3,>=1.21.1 in c:\\users\\enial\\anaconda3\\lib\\site-packages (from requests) (2.2.2)\n",
      "Requirement already satisfied: certifi>=2017.4.17 in c:\\users\\enial\\anaconda3\\lib\\site-packages (from requests) (2024.7.4)\n",
      "Requirement already satisfied: beautifulsoup4 in c:\\users\\enial\\anaconda3\\lib\\site-packages (4.12.3)\n",
      "Requirement already satisfied: soupsieve>1.2 in c:\\users\\enial\\anaconda3\\lib\\site-packages (from beautifulsoup4) (2.5)\n",
      "Requirement already satisfied: pandas in c:\\users\\enial\\anaconda3\\lib\\site-packages (2.2.2)\n",
      "Requirement already satisfied: numpy>=1.26.0 in c:\\users\\enial\\anaconda3\\lib\\site-packages (from pandas) (1.26.4)\n",
      "Requirement already satisfied: python-dateutil>=2.8.2 in c:\\users\\enial\\anaconda3\\lib\\site-packages (from pandas) (2.9.0.post0)\n",
      "Requirement already satisfied: pytz>=2020.1 in c:\\users\\enial\\anaconda3\\lib\\site-packages (from pandas) (2024.1)\n",
      "Requirement already satisfied: tzdata>=2022.7 in c:\\users\\enial\\anaconda3\\lib\\site-packages (from pandas) (2023.3)\n",
      "Requirement already satisfied: six>=1.5 in c:\\users\\enial\\anaconda3\\lib\\site-packages (from python-dateutil>=2.8.2->pandas) (1.16.0)\n"
     ]
    }
   ],
   "source": [
    "# Your solution goes here\n",
    "!pip install requests\n",
    "!pip install beautifulsoup4\n",
    "!pip install pandas"
   ]
  },
  {
   "cell_type": "code",
   "execution_count": null,
   "id": "51aa9217",
   "metadata": {},
   "outputs": [
    {
     "name": "stderr",
     "output_type": "stream",
     "text": [
      "C:\\Users\\enial\\AppData\\Local\\Temp\\ipykernel_19664\\2422720692.py:41: DeprecationWarning: The 'text' argument to find()-type methods is deprecated. Use 'string' instead.\n",
      "  upc = book_soup.find('th', text='UPC').find_next_sibling('td').text\n"
     ]
    },
    {
     "data": {
      "text/html": [
       "<div>\n",
       "<style scoped>\n",
       "    .dataframe tbody tr th:only-of-type {\n",
       "        vertical-align: middle;\n",
       "    }\n",
       "\n",
       "    .dataframe tbody tr th {\n",
       "        vertical-align: top;\n",
       "    }\n",
       "\n",
       "    .dataframe thead th {\n",
       "        text-align: right;\n",
       "    }\n",
       "</style>\n",
       "<table border=\"1\" class=\"dataframe\">\n",
       "  <thead>\n",
       "    <tr style=\"text-align: right;\">\n",
       "      <th></th>\n",
       "      <th>UPC</th>\n",
       "      <th>Title</th>\n",
       "      <th>Price (£)</th>\n",
       "      <th>Rating</th>\n",
       "      <th>Genre</th>\n",
       "      <th>Availability</th>\n",
       "      <th>Description</th>\n",
       "    </tr>\n",
       "  </thead>\n",
       "  <tbody>\n",
       "    <tr>\n",
       "      <th>0</th>\n",
       "      <td>ce6396b0f23f6ecc</td>\n",
       "      <td>Set Me Free</td>\n",
       "      <td>17.46</td>\n",
       "      <td>5</td>\n",
       "      <td>Young Adult</td>\n",
       "      <td>In stock (19 available)</td>\n",
       "      <td>Aaron Ledbetter’s future had been planned out ...</td>\n",
       "    </tr>\n",
       "    <tr>\n",
       "      <th>1</th>\n",
       "      <td>6258a1f6a6dcfe50</td>\n",
       "      <td>The Four Agreements: A Practical Guide to Pers...</td>\n",
       "      <td>17.66</td>\n",
       "      <td>5</td>\n",
       "      <td>Spirituality</td>\n",
       "      <td>In stock (18 available)</td>\n",
       "      <td>In The Four Agreements, don Miguel Ruiz reveal...</td>\n",
       "    </tr>\n",
       "    <tr>\n",
       "      <th>2</th>\n",
       "      <td>6be3beb0793a53e7</td>\n",
       "      <td>Sophie's World</td>\n",
       "      <td>15.94</td>\n",
       "      <td>5</td>\n",
       "      <td>Philosophy</td>\n",
       "      <td>In stock (18 available)</td>\n",
       "      <td>A page-turning novel that is also an explorati...</td>\n",
       "    </tr>\n",
       "    <tr>\n",
       "      <th>3</th>\n",
       "      <td>657fe5ead67a7767</td>\n",
       "      <td>Untitled Collection: Sabbath Poems 2014</td>\n",
       "      <td>14.27</td>\n",
       "      <td>4</td>\n",
       "      <td>Poetry</td>\n",
       "      <td>In stock (16 available)</td>\n",
       "      <td>More than thirty-five years ago, when the weat...</td>\n",
       "    </tr>\n",
       "    <tr>\n",
       "      <th>4</th>\n",
       "      <td>51653ef291ab7ddc</td>\n",
       "      <td>This One Summer</td>\n",
       "      <td>19.49</td>\n",
       "      <td>4</td>\n",
       "      <td>Sequential Art</td>\n",
       "      <td>In stock (16 available)</td>\n",
       "      <td>Every summer, Rose goes with her mom and dad t...</td>\n",
       "    </tr>\n",
       "    <tr>\n",
       "      <th>5</th>\n",
       "      <td>709822d0b5bcb7f4</td>\n",
       "      <td>Thirst</td>\n",
       "      <td>17.27</td>\n",
       "      <td>5</td>\n",
       "      <td>Fiction</td>\n",
       "      <td>In stock (16 available)</td>\n",
       "      <td>On a searing summer Friday, Eddie Chapman has ...</td>\n",
       "    </tr>\n",
       "  </tbody>\n",
       "</table>\n",
       "</div>"
      ],
      "text/plain": [
       "                UPC                                              Title  \\\n",
       "0  ce6396b0f23f6ecc                                        Set Me Free   \n",
       "1  6258a1f6a6dcfe50  The Four Agreements: A Practical Guide to Pers...   \n",
       "2  6be3beb0793a53e7                                     Sophie's World   \n",
       "3  657fe5ead67a7767            Untitled Collection: Sabbath Poems 2014   \n",
       "4  51653ef291ab7ddc                                    This One Summer   \n",
       "5  709822d0b5bcb7f4                                             Thirst   \n",
       "\n",
       "   Price (£)  Rating           Genre             Availability  \\\n",
       "0      17.46       5     Young Adult  In stock (19 available)   \n",
       "1      17.66       5    Spirituality  In stock (18 available)   \n",
       "2      15.94       5      Philosophy  In stock (18 available)   \n",
       "3      14.27       4          Poetry  In stock (16 available)   \n",
       "4      19.49       4  Sequential Art  In stock (16 available)   \n",
       "5      17.27       5         Fiction  In stock (16 available)   \n",
       "\n",
       "                                         Description  \n",
       "0  Aaron Ledbetter’s future had been planned out ...  \n",
       "1  In The Four Agreements, don Miguel Ruiz reveal...  \n",
       "2  A page-turning novel that is also an explorati...  \n",
       "3  More than thirty-five years ago, when the weat...  \n",
       "4  Every summer, Rose goes with her mom and dad t...  \n",
       "5  On a searing summer Friday, Eddie Chapman has ...  "
      ]
     },
     "execution_count": 3,
     "metadata": {},
     "output_type": "execute_result"
    }
   ],
   "source": [
    "import requests\n",
    "from bs4 import BeautifulSoup\n",
    "import pandas as pd\n",
    "import time\n",
    "\n",
    "def scrape_books(min_rating=4.0, max_price=20, num_pages=3):\n",
    "    base_url = \"http://books.toscrape.com/catalogue/page-{}.html\"\n",
    "    books_data = []\n",
    "    \n",
    "    page = 1\n",
    "    while page <= num_pages:  # Limit to `num_pages` pages\n",
    "        # Request the page content\n",
    "        url = base_url.format(page)\n",
    "        response = requests.get(url)\n",
    "        response.encoding = 'utf-8'\n",
    "        soup = BeautifulSoup(response.text, 'html.parser')\n",
    "        \n",
    "        # Find all book entries on the page\n",
    "        books = soup.find_all('article', class_='product_pod')\n",
    "        \n",
    "        if not books:\n",
    "            break\n",
    "        \n",
    "        for book in books:\n",
    "            title = book.h3.a['title']\n",
    "            price_text = book.find('p', class_='price_color').text.replace('£', '').strip()\n",
    "            price_text = ''.join(filter(lambda x: x.isdigit() or x == '.', price_text))\n",
    "            price = float(price_text)\n",
    "            \n",
    "            rating = book.p['class'][1]\n",
    "            ratings_dict = {'One': 1, 'Two': 2, 'Three': 3, 'Four': 4, 'Five': 5}\n",
    "            rating = ratings_dict.get(rating, 0)\n",
    "            \n",
    "            # Only request details for books matching criteria\n",
    "            if rating >= min_rating and price <= max_price:\n",
    "                book_url = \"http://books.toscrape.com/catalogue/\" + book.h3.a['href']\n",
    "                book_response = requests.get(book_url)\n",
    "                book_response.encoding = 'utf-8'\n",
    "                book_soup = BeautifulSoup(book_response.text, 'html.parser')\n",
    "                \n",
    "                upc = book_soup.find('th', text='UPC').find_next_sibling('td').text\n",
    "                genre = book_soup.find('ul', class_='breadcrumb').find_all('a')[-1].text\n",
    "                availability = book_soup.find('p', class_='instock availability').text.strip()\n",
    "                description = book_soup.find('meta', attrs={'name': 'description'})\n",
    "                description = description['content'].strip() if description else 'No description available'\n",
    "                \n",
    "                books_data.append({\n",
    "                    'UPC': upc,\n",
    "                    'Title': title,\n",
    "                    'Price (£)': price,\n",
    "                    'Rating': rating,\n",
    "                    'Genre': genre,\n",
    "                    'Availability': availability,\n",
    "                    'Description': description\n",
    "                })\n",
    "                \n",
    "                # Pause between requests to avoid overloading the server\n",
    "                time.sleep(0.5)\n",
    "        \n",
    "        page += 1\n",
    "    \n",
    "    books_df = pd.DataFrame(books_data)\n",
    "    return books_df\n",
    "\n",
    "# Ejecutar la función con un límite de páginas para hacer pruebas\n",
    "scraped_books_df = scrape_books(min_rating=4, max_price=20, num_pages=3)\n",
    "scraped_books_df\n"
   ]
  },
  {
   "cell_type": "code",
   "execution_count": 4,
   "id": "107d9b83",
   "metadata": {},
   "outputs": [
    {
     "name": "stdout",
     "output_type": "stream",
     "text": [
      "{\"UPC\":\"ce6396b0f23f6ecc\",\"Title\":\"Set Me Free\",\"Price (\\u00a3)\":17.46,\"Rating\":5,\"Genre\":\"Young Adult\",\"Availability\":\"In stock (19 available)\",\"Description\":\"Aaron Ledbetter\\u2019s future had been planned out for him since before he was born. Each year, the Ledbetter family vacation on Tybee Island gave Aaron a chance to briefly free himself from his family\\u2019s expectations. When he meets Jonas \\u201cLucky\\u201d Luckett, a caricature artist in town with the traveling carnival, he must choose between the life that\\u2019s been mapped out for him, and Aaron Ledbetter\\u2019s future had been planned out for him since before he was born. Each year, the Ledbetter family vacation on Tybee Island gave Aaron a chance to briefly free himself from his family\\u2019s expectations. When he meets Jonas \\u201cLucky\\u201d Luckett, a caricature artist in town with the traveling carnival, he must choose between the life that\\u2019s been mapped out for him, and the chance at true love. ...more\"}\n",
      "{\"UPC\":\"6258a1f6a6dcfe50\",\"Title\":\"The Four Agreements: A Practical Guide to Personal Freedom\",\"Price (\\u00a3)\":17.66,\"Rating\":5,\"Genre\":\"Spirituality\",\"Availability\":\"In stock (18 available)\",\"Description\":\"In The Four Agreements, don Miguel Ruiz reveals the source of self-limiting beliefs that rob us of joy and create needless suffering. Based on ancient Toltec wisdom, the Four Agreements offer a powerful code of conduct that can rapidly transform our lives to a new experience of freedom, true happiness, and love. The Four Agreements are: Be Impeccable With Your Word, Don't In The Four Agreements, don Miguel Ruiz reveals the source of self-limiting beliefs that rob us of joy and create needless suffering. Based on ancient Toltec wisdom, the Four Agreements offer a powerful code of conduct that can rapidly transform our lives to a new experience of freedom, true happiness, and love. The Four Agreements are: Be Impeccable With Your Word, Don't Take Anything Personally, Don't Make Assumptions, Always Do Your Best. ...more\"}\n",
      "{\"UPC\":\"6be3beb0793a53e7\",\"Title\":\"Sophie's World\",\"Price (\\u00a3)\":15.94,\"Rating\":5,\"Genre\":\"Philosophy\",\"Availability\":\"In stock (18 available)\",\"Description\":\"A page-turning novel that is also an exploration of the great philosophical concepts of Western thought, Sophie\\u2019s World has fired the imagination of readers all over the world, with more than twenty million copies in print.One day fourteen-year-old Sophie Amundsen comes home from school to find in her mailbox two notes, with one question on each: \\u201cWho are you?\\u201d and \\u201cWhere A page-turning novel that is also an exploration of the great philosophical concepts of Western thought, Sophie\\u2019s World has fired the imagination of readers all over the world, with more than twenty million copies in print.One day fourteen-year-old Sophie Amundsen comes home from school to find in her mailbox two notes, with one question on each: \\u201cWho are you?\\u201d and \\u201cWhere does the world come from?\\u201d From that irresistible beginning, Sophie becomes obsessed with questions that take her far beyond what she knows of her Norwegian village. Through those letters, she enrolls in a kind of correspondence course, covering Socrates to Sartre, with a mysterious philosopher, while receiving letters addressed to another girl. Who is Hilde? And why does her mail keep turning up? To unravel this riddle, Sophie must use the philosophy she is learning\\u2014but the truth turns out to be far more complicated than she could have imagined. ...more\"}\n",
      "{\"UPC\":\"657fe5ead67a7767\",\"Title\":\"Untitled Collection: Sabbath Poems 2014\",\"Price (\\u00a3)\":14.27,\"Rating\":4,\"Genre\":\"Poetry\",\"Availability\":\"In stock (16 available)\",\"Description\":\"More than thirty-five years ago, when the weather allowed, Wendell Berry began spending his sabbaths outdoors, walking and wandering around familiar territory, seeking a deep intimacy only time could provide. These walks arranged themselves into poems and each year since he has completed a sequence dated by the year of its composition. Last year we collected the lot into a More than thirty-five years ago, when the weather allowed, Wendell Berry began spending his sabbaths outdoors, walking and wandering around familiar territory, seeking a deep intimacy only time could provide. These walks arranged themselves into poems and each year since he has completed a sequence dated by the year of its composition. Last year we collected the lot into a collection, This Day, the Sabbath Poems 1979-2013. This new sequence for the following year is one of the richest yet. This group provides a virtual syllabus for all of Mr. Berry\\u2019s cultural and agricultural work in concentrated form. Many of these poems are drawn from the view from a small porch in the woods, a place of stillness and reflection, a vantage point \\u201cof the one\\/life of the forest composed\\/of uncountable lives in countless\\/years each life coherent itself within\\/ the coherence, the great composure,\\/of all.\\u201d A new collection of Wendell Berry poems is always an occasion of joyful celebration and this one is especially so. ...more\"}\n",
      "{\"UPC\":\"51653ef291ab7ddc\",\"Title\":\"This One Summer\",\"Price (\\u00a3)\":19.49,\"Rating\":4,\"Genre\":\"Sequential Art\",\"Availability\":\"In stock (16 available)\",\"Description\":\"Every summer, Rose goes with her mom and dad to a lake house in Awago Beach. It's their getaway, their refuge. Rosie's friend Windy is always there, too, like the little sister she never had. But this summer is different. Rose's mom and dad won't stop fighting, and when Rose and Windy seek a distraction from the drama, they find themselves with a whole new set of problems. Every summer, Rose goes with her mom and dad to a lake house in Awago Beach. It's their getaway, their refuge. Rosie's friend Windy is always there, too, like the little sister she never had. But this summer is different. Rose's mom and dad won't stop fighting, and when Rose and Windy seek a distraction from the drama, they find themselves with a whole new set of problems. It's a summer of secrets and sorrow and growing up, and it's a good thing Rose and Windy have each other.In This One Summer two stellar creators redefine the teen graphic novel. Cousins Mariko and Jillian Tamaki, the team behind Skim, have collaborated on this gorgeous, heartbreaking, and ultimately hopeful story about a girl on the cusp of her teen age \\u2014 a story of renewal and revelation. ...more\"}\n",
      "{\"UPC\":\"709822d0b5bcb7f4\",\"Title\":\"Thirst\",\"Price (\\u00a3)\":17.27,\"Rating\":5,\"Genre\":\"Fiction\",\"Availability\":\"In stock (16 available)\",\"Description\":\"On a searing summer Friday, Eddie Chapman has been stuck for hours in a traffic jam. There are accidents along the highway, but ambulances and police are conspicuously absent. When he decides to abandon his car and run home, he sees that the trees along the edge of a stream have been burnt, and the water in the streambed is gone. Something is very wrong.When he arrives hom On a searing summer Friday, Eddie Chapman has been stuck for hours in a traffic jam. There are accidents along the highway, but ambulances and police are conspicuously absent. When he decides to abandon his car and run home, he sees that the trees along the edge of a stream have been burnt, and the water in the streambed is gone. Something is very wrong.When he arrives home, the power is out and there is no running water. The pipes everywhere, it seems, have gone dry. Eddie and his wife, Laura, find themselves thrust together with their neighbors while a sense of unease thickens in the stifling night air. Thirst takes place in the immediate aftermath of a mysterious disaster--the Chapmans and their neighbors suffer the effects of the heat, their thirst, and the terrifying realization that no one is coming to help. As violence rips through the community, Eddie and Laura are forced to recall secrets from their past and question their present humanity. In crisp and convincing prose, Ben Warner compels readers to do the same. What might you do to survive? ...more\"}\n",
      "\n"
     ]
    }
   ],
   "source": [
    "json_data = scraped_books_df.to_json(orient='records', lines=True)\n",
    "\n",
    "# Mostrar el resultado\n",
    "print(json_data)"
   ]
  }
 ],
 "metadata": {
  "colab": {
   "provenance": []
  },
  "kernelspec": {
   "display_name": "base",
   "language": "python",
   "name": "python3"
  },
  "language_info": {
   "codemirror_mode": {
    "name": "ipython",
    "version": 3
   },
   "file_extension": ".py",
   "mimetype": "text/x-python",
   "name": "python",
   "nbconvert_exporter": "python",
   "pygments_lexer": "ipython3",
   "version": "3.12.4"
  }
 },
 "nbformat": 4,
 "nbformat_minor": 5
}
